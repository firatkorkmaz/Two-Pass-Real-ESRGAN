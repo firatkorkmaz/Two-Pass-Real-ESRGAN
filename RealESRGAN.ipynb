{
 "cells": [
  {
   "cell_type": "code",
   "execution_count": 1,
   "metadata": {
    "id": "5lQHrOmghFRJ"
   },
   "outputs": [],
   "source": [
    "# Real-ESRGAN Commands for Two-Pass Processing Image Enhancement #"
   ]
  },
  {
   "cell_type": "code",
   "execution_count": 2,
   "metadata": {
    "id": "iXv-dSGJg2nJ"
   },
   "outputs": [],
   "source": [
    "########## Repository: https://github.com/xinntao/Real-ESRGAN ##########\n",
    "### Both 1-Pass and 2-Pass Versions of the 3 Weight Files are Available:\n",
    "### RealESRGAN_x4plus || RealESRGAN_x4plus_anime_6B || RealESRNet_x4plus\n",
    "### 2-Pass Versions Usually Give Better Results than the 1-Pass Versions"
   ]
  },
  {
   "cell_type": "code",
   "execution_count": 3,
   "metadata": {
    "colab": {
     "base_uri": "https://localhost:8080/"
    },
    "id": "r2FxYVCFw-yq",
    "outputId": "0785b6a9-a7a3-43de-a663-b8e0150a9bf3"
   },
   "outputs": [
    {
     "name": "stdout",
     "output_type": "stream",
     "text": [
      "Cloning into 'Real-ESRGAN'...\n",
      "remote: Enumerating objects: 755, done.\u001b[K\n",
      "remote: Total 755 (delta 0), reused 0 (delta 0), pack-reused 755\u001b[K\n",
      "Receiving objects: 100% (755/755), 5.37 MiB | 10.18 MiB/s, done.\n",
      "Resolving deltas: 100% (410/410), done.\n",
      "/content/Real-ESRGAN\n"
     ]
    }
   ],
   "source": [
    "!git clone https://github.com/xinntao/Real-ESRGAN.git\n",
    "%cd Real-ESRGAN"
   ]
  },
  {
   "cell_type": "code",
   "execution_count": 4,
   "metadata": {
    "id": "e9XXewSMhAua"
   },
   "outputs": [],
   "source": [
    "!pip install -r requirements.txt &> /dev/null\n",
    "!pip install torchvision==0.16.2 &> /dev/null\n",
    "!python setup.py develop &> /dev/null"
   ]
  },
  {
   "cell_type": "code",
   "execution_count": 5,
   "metadata": {
    "id": "WeTaVy7BhVfR"
   },
   "outputs": [],
   "source": [
    "!wget https://github.com/xinntao/Real-ESRGAN/releases/download/v0.1.0/RealESRGAN_x4plus.pth -P weights  &> /dev/null\n",
    "!wget https://github.com/xinntao/Real-ESRGAN/releases/download/v0.2.2.4/RealESRGAN_x4plus_anime_6B.pth -P weights  &> /dev/null\n",
    "!wget https://github.com/xinntao/Real-ESRGAN/releases/download/v0.1.1/RealESRNet_x4plus.pth -P weights  &> /dev/null"
   ]
  },
  {
   "cell_type": "code",
   "execution_count": 6,
   "metadata": {
    "id": "BtjCYSQTiu_h"
   },
   "outputs": [],
   "source": [
    "import os\n",
    "import time\n",
    "import shutil as sh\n",
    "from google.colab import files"
   ]
  },
  {
   "cell_type": "code",
   "execution_count": 7,
   "metadata": {
    "id": "7Fg3diI3jB9H"
   },
   "outputs": [],
   "source": [
    "def clean_folder(dirpath):\n",
    "    for filename in os.listdir(dirpath):\n",
    "        filepath = os.path.join(dirpath, filename)\n",
    "        try:\n",
    "            sh.rmtree(filepath)\n",
    "        except OSError:\n",
    "            os.remove(filepath)\n",
    "\n",
    "\n",
    "if not os.path.isdir(\"./inputs\"):\n",
    "    os.mkdir(\"inputs\")\n",
    "else: clean_folder(\"inputs/\")\n",
    "\n",
    "if not os.path.isdir(\"./midputs\"):\n",
    "    os.mkdir(\"midputs\")\n",
    "else: clean_folder(\"midputs/\")\n",
    "\n",
    "if not os.path.isdir(\"./outputs\"):\n",
    "    os.mkdir(\"outputs\")\n",
    "else: clean_folder(\"outputs/\")"
   ]
  },
  {
   "cell_type": "code",
   "execution_count": 8,
   "metadata": {
    "colab": {
     "base_uri": "https://localhost:8080/",
     "height": 110
    },
    "id": "yDEqwkWjmvUB",
    "outputId": "1e3dd304-42e9-47bc-d500-ffaa1e78421d"
   },
   "outputs": [
    {
     "name": "stdout",
     "output_type": "stream",
     "text": [
      "/content/Real-ESRGAN/inputs\n"
     ]
    },
    {
     "data": {
      "text/html": [
       "\n",
       "     <input type=\"file\" id=\"files-ea200a3f-d6f1-46cc-aa72-cba185f91742\" name=\"files[]\" multiple disabled\n",
       "        style=\"border:none\" />\n",
       "     <output id=\"result-ea200a3f-d6f1-46cc-aa72-cba185f91742\">\n",
       "      Upload widget is only available when the cell has been executed in the\n",
       "      current browser session. Please rerun this cell to enable.\n",
       "      </output>\n",
       "      <script>// Copyright 2017 Google LLC\n",
       "//\n",
       "// Licensed under the Apache License, Version 2.0 (the \"License\");\n",
       "// you may not use this file except in compliance with the License.\n",
       "// You may obtain a copy of the License at\n",
       "//\n",
       "//      http://www.apache.org/licenses/LICENSE-2.0\n",
       "//\n",
       "// Unless required by applicable law or agreed to in writing, software\n",
       "// distributed under the License is distributed on an \"AS IS\" BASIS,\n",
       "// WITHOUT WARRANTIES OR CONDITIONS OF ANY KIND, either express or implied.\n",
       "// See the License for the specific language governing permissions and\n",
       "// limitations under the License.\n",
       "\n",
       "/**\n",
       " * @fileoverview Helpers for google.colab Python module.\n",
       " */\n",
       "(function(scope) {\n",
       "function span(text, styleAttributes = {}) {\n",
       "  const element = document.createElement('span');\n",
       "  element.textContent = text;\n",
       "  for (const key of Object.keys(styleAttributes)) {\n",
       "    element.style[key] = styleAttributes[key];\n",
       "  }\n",
       "  return element;\n",
       "}\n",
       "\n",
       "// Max number of bytes which will be uploaded at a time.\n",
       "const MAX_PAYLOAD_SIZE = 100 * 1024;\n",
       "\n",
       "function _uploadFiles(inputId, outputId) {\n",
       "  const steps = uploadFilesStep(inputId, outputId);\n",
       "  const outputElement = document.getElementById(outputId);\n",
       "  // Cache steps on the outputElement to make it available for the next call\n",
       "  // to uploadFilesContinue from Python.\n",
       "  outputElement.steps = steps;\n",
       "\n",
       "  return _uploadFilesContinue(outputId);\n",
       "}\n",
       "\n",
       "// This is roughly an async generator (not supported in the browser yet),\n",
       "// where there are multiple asynchronous steps and the Python side is going\n",
       "// to poll for completion of each step.\n",
       "// This uses a Promise to block the python side on completion of each step,\n",
       "// then passes the result of the previous step as the input to the next step.\n",
       "function _uploadFilesContinue(outputId) {\n",
       "  const outputElement = document.getElementById(outputId);\n",
       "  const steps = outputElement.steps;\n",
       "\n",
       "  const next = steps.next(outputElement.lastPromiseValue);\n",
       "  return Promise.resolve(next.value.promise).then((value) => {\n",
       "    // Cache the last promise value to make it available to the next\n",
       "    // step of the generator.\n",
       "    outputElement.lastPromiseValue = value;\n",
       "    return next.value.response;\n",
       "  });\n",
       "}\n",
       "\n",
       "/**\n",
       " * Generator function which is called between each async step of the upload\n",
       " * process.\n",
       " * @param {string} inputId Element ID of the input file picker element.\n",
       " * @param {string} outputId Element ID of the output display.\n",
       " * @return {!Iterable<!Object>} Iterable of next steps.\n",
       " */\n",
       "function* uploadFilesStep(inputId, outputId) {\n",
       "  const inputElement = document.getElementById(inputId);\n",
       "  inputElement.disabled = false;\n",
       "\n",
       "  const outputElement = document.getElementById(outputId);\n",
       "  outputElement.innerHTML = '';\n",
       "\n",
       "  const pickedPromise = new Promise((resolve) => {\n",
       "    inputElement.addEventListener('change', (e) => {\n",
       "      resolve(e.target.files);\n",
       "    });\n",
       "  });\n",
       "\n",
       "  const cancel = document.createElement('button');\n",
       "  inputElement.parentElement.appendChild(cancel);\n",
       "  cancel.textContent = 'Cancel upload';\n",
       "  const cancelPromise = new Promise((resolve) => {\n",
       "    cancel.onclick = () => {\n",
       "      resolve(null);\n",
       "    };\n",
       "  });\n",
       "\n",
       "  // Wait for the user to pick the files.\n",
       "  const files = yield {\n",
       "    promise: Promise.race([pickedPromise, cancelPromise]),\n",
       "    response: {\n",
       "      action: 'starting',\n",
       "    }\n",
       "  };\n",
       "\n",
       "  cancel.remove();\n",
       "\n",
       "  // Disable the input element since further picks are not allowed.\n",
       "  inputElement.disabled = true;\n",
       "\n",
       "  if (!files) {\n",
       "    return {\n",
       "      response: {\n",
       "        action: 'complete',\n",
       "      }\n",
       "    };\n",
       "  }\n",
       "\n",
       "  for (const file of files) {\n",
       "    const li = document.createElement('li');\n",
       "    li.append(span(file.name, {fontWeight: 'bold'}));\n",
       "    li.append(span(\n",
       "        `(${file.type || 'n/a'}) - ${file.size} bytes, ` +\n",
       "        `last modified: ${\n",
       "            file.lastModifiedDate ? file.lastModifiedDate.toLocaleDateString() :\n",
       "                                    'n/a'} - `));\n",
       "    const percent = span('0% done');\n",
       "    li.appendChild(percent);\n",
       "\n",
       "    outputElement.appendChild(li);\n",
       "\n",
       "    const fileDataPromise = new Promise((resolve) => {\n",
       "      const reader = new FileReader();\n",
       "      reader.onload = (e) => {\n",
       "        resolve(e.target.result);\n",
       "      };\n",
       "      reader.readAsArrayBuffer(file);\n",
       "    });\n",
       "    // Wait for the data to be ready.\n",
       "    let fileData = yield {\n",
       "      promise: fileDataPromise,\n",
       "      response: {\n",
       "        action: 'continue',\n",
       "      }\n",
       "    };\n",
       "\n",
       "    // Use a chunked sending to avoid message size limits. See b/62115660.\n",
       "    let position = 0;\n",
       "    do {\n",
       "      const length = Math.min(fileData.byteLength - position, MAX_PAYLOAD_SIZE);\n",
       "      const chunk = new Uint8Array(fileData, position, length);\n",
       "      position += length;\n",
       "\n",
       "      const base64 = btoa(String.fromCharCode.apply(null, chunk));\n",
       "      yield {\n",
       "        response: {\n",
       "          action: 'append',\n",
       "          file: file.name,\n",
       "          data: base64,\n",
       "        },\n",
       "      };\n",
       "\n",
       "      let percentDone = fileData.byteLength === 0 ?\n",
       "          100 :\n",
       "          Math.round((position / fileData.byteLength) * 100);\n",
       "      percent.textContent = `${percentDone}% done`;\n",
       "\n",
       "    } while (position < fileData.byteLength);\n",
       "  }\n",
       "\n",
       "  // All done.\n",
       "  yield {\n",
       "    response: {\n",
       "      action: 'complete',\n",
       "    }\n",
       "  };\n",
       "}\n",
       "\n",
       "scope.google = scope.google || {};\n",
       "scope.google.colab = scope.google.colab || {};\n",
       "scope.google.colab._files = {\n",
       "  _uploadFiles,\n",
       "  _uploadFilesContinue,\n",
       "};\n",
       "})(self);\n",
       "</script> "
      ],
      "text/plain": [
       "<IPython.core.display.HTML object>"
      ]
     },
     "metadata": {},
     "output_type": "display_data"
    },
    {
     "name": "stdout",
     "output_type": "stream",
     "text": [
      "Saving input.zip to input.zip\n",
      "/content/Real-ESRGAN\n"
     ]
    }
   ],
   "source": [
    "# UPLOAD YOUR IMAGES IN A ZIP FILE:\n",
    "\n",
    "%cd inputs\n",
    "from google.colab import files\n",
    "uploaded = files.upload()\n",
    "filename = next(iter(uploaded))\n",
    "sh.unpack_archive(filename, \"./\")\n",
    "!rm {filename}\n",
    "%cd .."
   ]
  },
  {
   "cell_type": "code",
   "execution_count": 9,
   "metadata": {
    "id": "sSqrJwMRoa4Q"
   },
   "outputs": [],
   "source": [
    "### Scaling Examples for 2-Pass Enhancement\n",
    "### NOTE: Keep scale1 and scale2 Close to sqrt(scale)\n",
    "\n",
    "### For scale=1 => scale1=1; scale2=1\n",
    "### For scale=1.5 => scale1=1.2; scale2=1.25\n",
    "### For scale=2 => scale1=1.25; scale2=1.6\n",
    "### For scale=2.5 => scale1=1.25; scale2=2\n",
    "### For scale=3 => scale1=1.5; scale2=2\n",
    "### For scale=3.5 => scale1=1.75; scale2=2\n",
    "### For scale=4 => scale1=2; scale2=2\n",
    "### For scale=4.5 => scale1=2; scale2=2.25\n",
    "### For scale=5 => scale1=2; scale2=2.5\n",
    "\n",
    "scale1 = 2\n",
    "scale2 = 2\n",
    "scale = scale1 * scale2"
   ]
  },
  {
   "cell_type": "code",
   "execution_count": null,
   "metadata": {
    "id": "OqAEi91xrXFv"
   },
   "outputs": [],
   "source": [
    "####### ESRGANx64 / 1-PASS #######\n",
    "\n",
    "inputs='inputs'\n",
    "outputs='outputs'\n",
    "filesuffix=f\"x{scale}_ganx4\"\n",
    "\n",
    "!python inference_realesrgan.py -n RealESRGAN_x4plus -i {inputs} -s {scale} -o {outputs} --fp32 --suffix {filesuffix}"
   ]
  },
  {
   "cell_type": "code",
   "execution_count": null,
   "metadata": {
    "id": "dw-cj1HCraXf"
   },
   "outputs": [],
   "source": [
    "####### ESRGANx64 / 2-PASS #######\n",
    "\n",
    "inputs='inputs'\n",
    "outputs='midputs'\n",
    "filesuffix=f\"x{scale1}_x{scale2}\"\n",
    "\n",
    "!python inference_realesrgan.py -n RealESRGAN_x4plus -i {inputs} -s {scale1} -o {outputs} --fp32 --suffix {filesuffix}\n",
    "\n",
    "time.sleep(1)\n",
    "\n",
    "inputs='midputs'\n",
    "outputs='outputs'\n",
    "filesuffix=f\"ganx4_ganx4\"\n",
    "\n",
    "!python inference_realesrgan.py -n RealESRGAN_x4plus -i {inputs} -s {scale2} -o {outputs} --fp32 --suffix {filesuffix}\n",
    "\n",
    "time.sleep(1)\n",
    "\n",
    "dirpath = \"midputs/\"\n",
    "for filename in os.listdir(dirpath):\n",
    "    filepath = os.path.join(dirpath, filename)\n",
    "    try:\n",
    "        sh.rmtree(filepath)\n",
    "    except OSError:\n",
    "        os.remove(filepath)"
   ]
  },
  {
   "cell_type": "code",
   "execution_count": null,
   "metadata": {
    "id": "vICr2EOQtlzz"
   },
   "outputs": [],
   "source": [
    " ####### ESRGANx64_ANIME / 1-PASS #######\n",
    "\n",
    "inputs='inputs'\n",
    "outputs='outputs'\n",
    "filesuffix=f\"x{scale}_ganx4anime\"\n",
    "\n",
    "!python inference_realesrgan.py -n RealESRGAN_x4plus_anime_6B -i {inputs} -s {scale} -o {outputs} --fp32 --suffix {filesuffix}"
   ]
  },
  {
   "cell_type": "code",
   "execution_count": null,
   "metadata": {
    "id": "-hNexndptnGA"
   },
   "outputs": [],
   "source": [
    " ####### ESRGANx64_ANIME / 2-PASS #######\n",
    "\n",
    "inputs='inputs'\n",
    "outputs='midputs'\n",
    "filesuffix=f\"x{scale1}_x{scale2}\"\n",
    "\n",
    "!python inference_realesrgan.py -n RealESRGAN_x4plus_anime_6B -i {inputs} -s {scale1} -o {outputs} --fp32 --suffix {filesuffix}\n",
    "\n",
    "time.sleep(1)\n",
    "\n",
    "inputs='midputs'\n",
    "outputs='outputs'\n",
    "filesuffix=f\"ganx4anime_ganx4anime\"\n",
    "\n",
    "!python inference_realesrgan.py -n RealESRGAN_x4plus_anime_6B -i {inputs} -s {scale2} -o {outputs} --fp32 --suffix {filesuffix}\n",
    "\n",
    "time.sleep(1)\n",
    "\n",
    "dirpath = \"midputs/\"\n",
    "for filename in os.listdir(dirpath):\n",
    "    filepath = os.path.join(dirpath, filename)\n",
    "    try:\n",
    "        sh.rmtree(filepath)\n",
    "    except OSError:\n",
    "        os.remove(filepath)"
   ]
  },
  {
   "cell_type": "code",
   "execution_count": null,
   "metadata": {
    "id": "kwlefItUtqNt"
   },
   "outputs": [],
   "source": [
    "####### ESRNETx64 / 1-PASS #######\n",
    "\n",
    "inputs='inputs'\n",
    "outputs='outputs'\n",
    "filesuffix=f\"x{scale}_netx4\"\n",
    "\n",
    "!python inference_realesrgan.py -n RealESRNet_x4plus -i {inputs} -s {scale} -o {outputs} --fp32 --suffix {filesuffix}"
   ]
  },
  {
   "cell_type": "code",
   "execution_count": null,
   "metadata": {
    "id": "1gF4e3_strm9"
   },
   "outputs": [],
   "source": [
    "####### ESRNETx64 / 2-PASS #######\n",
    "\n",
    "inputs='inputs'\n",
    "outputs='midputs'\n",
    "filesuffix=f\"x{scale1}_x{scale2}\"\n",
    "\n",
    "!python inference_realesrgan.py -n RealESRNet_x4plus -i {inputs} -s {scale1} -o {outputs} --fp32 --suffix {filesuffix}\n",
    "\n",
    "time.sleep(1)\n",
    "\n",
    "inputs='midputs'\n",
    "outputs='outputs'\n",
    "filesuffix=f\"xnetx4_netx4\"\n",
    "\n",
    "!python inference_realesrgan.py -n RealESRNet_x4plus -i {inputs} -s {scale2} -o {outputs} --fp32 --suffix {filesuffix}\n",
    "\n",
    "time.sleep(1)\n",
    "\n",
    "dirpath = \"midputs/\"\n",
    "for filename in os.listdir(dirpath):\n",
    "    filepath = os.path.join(dirpath, filename)\n",
    "    try:\n",
    "        sh.rmtree(filepath)\n",
    "    except OSError:\n",
    "        os.remove(filepath)"
   ]
  },
  {
   "cell_type": "code",
   "execution_count": null,
   "metadata": {
    "id": "ZEviLG0xvF-G"
   },
   "outputs": [],
   "source": [
    "# Downloading All the Output Images in A .zip File\n",
    "out = f\"outputs_x{scale1}_x{scale2}.zip\"\n",
    "!zip -r ./{out} ./outputs  &> /dev/null\n",
    "files.download(out)"
   ]
  },
  {
   "cell_type": "code",
   "execution_count": null,
   "metadata": {
    "id": "RSMKRfmFttsA"
   },
   "outputs": [],
   "source": [
    "# Downloading All the Output Images Directly (Optional)\n",
    "\n",
    "download_dir='outputs/'\n",
    "filename=os.listdir(download_dir)\n",
    "for _, name in enumerate(filename):\n",
    "    files.download(download_dir+name)"
   ]
  },
  {
   "cell_type": "code",
   "execution_count": 18,
   "metadata": {
    "id": "3IQlCn_ftt0f"
   },
   "outputs": [],
   "source": [
    "# Removing the .zip File and the Image Files (Optional)\n",
    "\n",
    "!rm {out}\n",
    "clean_folder(\"outputs/\")"
   ]
  },
  {
   "cell_type": "code",
   "execution_count": null,
   "metadata": {
    "id": "8IOJvsRVtv8i"
   },
   "outputs": [],
   "source": [
    "from google.colab import runtime\n",
    "runtime.unassign()"
   ]
  },
  {
   "cell_type": "code",
   "execution_count": null,
   "metadata": {
    "id": "APlyFId4txmZ"
   },
   "outputs": [],
   "source": [
    "############################################"
   ]
  }
 ],
 "metadata": {
  "accelerator": "GPU",
  "colab": {
   "gpuType": "T4",
   "provenance": []
  },
  "kernelspec": {
   "display_name": "Python 3 (ipykernel)",
   "language": "python",
   "name": "python3"
  },
  "language_info": {
   "codemirror_mode": {
    "name": "ipython",
    "version": 3
   },
   "file_extension": ".py",
   "mimetype": "text/x-python",
   "name": "python",
   "nbconvert_exporter": "python",
   "pygments_lexer": "ipython3",
   "version": "3.10.14"
  }
 },
 "nbformat": 4,
 "nbformat_minor": 1
}
